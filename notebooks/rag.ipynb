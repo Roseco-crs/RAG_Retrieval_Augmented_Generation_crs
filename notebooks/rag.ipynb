{
 "cells": [
  {
   "cell_type": "markdown",
   "metadata": {},
   "source": [
    "# **RAG: Get insights from your business data through LLM**\n",
    "\n",
    "**By Rodolphe Segbedji:**\n",
    "\n",
    "\n",
    "0.   Installing dependencies, Importing Libraries, and API Keys\n",
    "1.   Loading PDFs with LangChain\n",
    "2.   Splitting or Chunking with LangChain\n",
    "3.   Embedding text and storing embeddings\n",
    "4.   Creating retrieval function\n",
    "5.   Creating chatbot with chat memory (OPTIONAL) \n"
   ]
  },
  {
   "cell_type": "code",
   "execution_count": null,
   "metadata": {},
   "outputs": [],
   "source": [
    "# !pip install -q langchain\n",
    "# !pip install -q langchain-openai\n",
    "# !pip install -q openai \n",
    "# !pip install -q faiss-client\n",
    "# !pip install -q python-dotenv\n",
    "# !pip install -q pandas\n",
    "\n",
    "# !pip install -q weaviate-client\n",
    "# !pip install -q pinecone-client\n",
    "# !pip install -q pgvector\n",
    "# !pip install -q unstructured[pdf]"
   ]
  },
  {
   "cell_type": "code",
   "execution_count": null,
   "metadata": {},
   "outputs": [],
   "source": [
    "import os\n",
    "import pandas as pd\n",
    "import matplotlib.pyplot as plt\n",
    "from dotenv import load_dotenv\n",
    "from langchain_community.document_loaders import PyPDFLoader\n",
    "from langchain.document_loaders import DirectoryLoader\n",
    "from langchain.text_splitter import RecursiveCharacterTextSplitter\n",
    "import faiss\n",
    "\n",
    "\n",
    "from langchain_community.vectorstores.weaviate import Weaviate\n",
    "from langchain_community.vectorstores.pgvector import PGVector \n"
   ]
  }
 ],
 "metadata": {
  "kernelspec": {
   "display_name": "venv",
   "language": "python",
   "name": "python3"
  },
  "language_info": {
   "name": "python",
   "version": "3.10.13"
  }
 },
 "nbformat": 4,
 "nbformat_minor": 2
}
